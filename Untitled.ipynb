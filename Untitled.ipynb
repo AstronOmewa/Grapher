{
 "cells": [
  {
   "cell_type": "code",
   "execution_count": 34,
   "id": "2e385335-54ed-4f70-936f-be2a7e2f7e85",
   "metadata": {},
   "outputs": [],
   "source": [
    "import numpy as np\n",
    "from scipy.ndimage import convolve\n",
    "from PIL import Image, ImageFilter\n",
    "file = \"image.png\""
   ]
  },
  {
   "cell_type": "code",
   "execution_count": 35,
   "id": "df3e63cc-a1df-4083-91f4-246b7849a15b",
   "metadata": {},
   "outputs": [],
   "source": [
    "def flatten(arr2d):\n",
    "    sum_=sum([x for i in arr2d for x in i])\n",
    "    if sum_==0:\n",
    "        sum_=1\n",
    "    return [x/sum_ for i in arr2d for x in i]\n",
    "def flat(arr2d):\n",
    "    return [x for i in arr2d for x in i]\n",
    "def flt(arr_img,kernel):\n",
    "    kerSum=sum(flat(kernel))\n",
    "    if kerSum==0:\n",
    "        kerSum=1\n",
    "    return convolve(arr_img,np.multiply(kernel,1/kerSum))"
   ]
  },
  {
   "cell_type": "code",
   "execution_count": 36,
   "id": "9bf788c5-5155-465d-8bb1-78d74890c114",
   "metadata": {},
   "outputs": [],
   "source": [
    "with Image.open(file) as img:\n",
    "    img.load()"
   ]
  },
  {
   "cell_type": "code",
   "execution_count": 37,
   "id": "df226888-6671-4854-9c9f-83c760776523",
   "metadata": {},
   "outputs": [],
   "source": [
    "n=2\n",
    "f=\"1 \"*n\n",
    "s=[([[1]+[0]*(n-1)])*(n-1)]\n",
    "kernel=[\n",
    "    [1,1,1],\n",
    "    [0,0,0],\n",
    "    [-1,-1,-1]\n",
    "]\n",
    "repeats=1\n",
    "ch=[im for im in img.split()][:3]\n",
    "zero_band=ch[0].point(lambda _:0)"
   ]
  },
  {
   "cell_type": "code",
   "execution_count": 38,
   "id": "13a3ae97-e86e-4b75-a4d6-652c703d68c4",
   "metadata": {},
   "outputs": [
    {
     "data": {
      "text/plain": [
       "[<PIL.Image.Image image mode=L size=1682x706>,\n",
       " <PIL.Image.Image image mode=L size=1682x706>,\n",
       " <PIL.Image.Image image mode=L size=1682x706>]"
      ]
     },
     "execution_count": 38,
     "metadata": {},
     "output_type": "execute_result"
    }
   ],
   "source": [
    "ch"
   ]
  },
  {
   "cell_type": "code",
   "execution_count": 39,
   "id": "095af08e-1451-4747-b012-2f3d4b4753e3",
   "metadata": {},
   "outputs": [],
   "source": [
    "arr_img=[np.array(i) for i in ch]"
   ]
  },
  {
   "cell_type": "code",
   "execution_count": 40,
   "id": "c84befb9-e221-4162-b8bc-546e125277ae",
   "metadata": {},
   "outputs": [
    {
     "data": {
      "text/plain": [
       "[array([[ 5,  5,  5, ...,  5,  5,  5],\n",
       "        [ 5,  5,  5, ...,  5,  5,  5],\n",
       "        [ 5,  5,  5, ...,  5,  5,  5],\n",
       "        ...,\n",
       "        [10, 10, 10, ...,  5,  5,  4],\n",
       "        [10, 10, 10, ...,  5,  5,  4],\n",
       "        [10, 10, 10, ...,  5,  5,  4]], dtype=uint8),\n",
       " array([[0, 0, 0, ..., 0, 0, 0],\n",
       "        [0, 0, 0, ..., 0, 0, 0],\n",
       "        [0, 0, 0, ..., 0, 0, 0],\n",
       "        ...,\n",
       "        [0, 0, 0, ..., 0, 0, 0],\n",
       "        [0, 0, 0, ..., 0, 0, 0],\n",
       "        [0, 0, 0, ..., 0, 0, 0]], dtype=uint8),\n",
       " array([[20, 20, 20, ..., 32, 32, 32],\n",
       "        [20, 20, 20, ..., 32, 32, 32],\n",
       "        [20, 20, 20, ..., 32, 32, 32],\n",
       "        ...,\n",
       "        [29, 29, 29, ..., 30, 30, 29],\n",
       "        [29, 29, 29, ..., 30, 30, 29],\n",
       "        [29, 29, 29, ..., 30, 30, 29]], dtype=uint8)]"
      ]
     },
     "execution_count": 40,
     "metadata": {},
     "output_type": "execute_result"
    }
   ],
   "source": [
    "arr_img"
   ]
  },
  {
   "cell_type": "code",
   "execution_count": 41,
   "id": "0fa63f19-7a36-49b0-ba09-1a20b5beecb3",
   "metadata": {},
   "outputs": [],
   "source": [
    "convolved=[flt(i,kernel) for i in arr_img]"
   ]
  },
  {
   "cell_type": "code",
   "execution_count": 42,
   "id": "f074b881-dea8-470e-836e-98019483faff",
   "metadata": {},
   "outputs": [],
   "source": [
    "for i in range(0,repeats-1):\n",
    "    convolved=[flt(c,kernel) for c in convolved]"
   ]
  },
  {
   "cell_type": "code",
   "execution_count": 43,
   "id": "15098134-e4e1-4365-af61-14e1debbdf80",
   "metadata": {},
   "outputs": [],
   "source": [
    "img=[Image.fromarray(c) for c in convolved] \n"
   ]
  },
  {
   "cell_type": "code",
   "execution_count": 44,
   "id": "eb515052-c6d9-4698-9086-122701823916",
   "metadata": {},
   "outputs": [],
   "source": [
    "img=Image.merge(\n",
    "    \"RGB\",(img[0],img[1],img[2])\n",
    ")"
   ]
  },
  {
   "cell_type": "code",
   "execution_count": 45,
   "id": "6062e9e6-85ba-4626-a7d6-f4030ed5f6bd",
   "metadata": {},
   "outputs": [
    {
     "ename": "ValueError",
     "evalue": "size mismatch",
     "output_type": "error",
     "traceback": [
      "\u001b[1;31m---------------------------------------------------------------------------\u001b[0m",
      "\u001b[1;31mValueError\u001b[0m                                Traceback (most recent call last)",
      "Cell \u001b[1;32mIn[45], line 1\u001b[0m\n\u001b[1;32m----> 1\u001b[0m img\u001b[38;5;241m=\u001b[39m[\u001b[43mImage\u001b[49m\u001b[38;5;241;43m.\u001b[39;49m\u001b[43mmerge\u001b[49m\u001b[43m(\u001b[49m\n\u001b[0;32m      2\u001b[0m \u001b[43m    \u001b[49m\u001b[38;5;124;43m\"\u001b[39;49m\u001b[38;5;124;43mRGB\u001b[39;49m\u001b[38;5;124;43m\"\u001b[39;49m\u001b[43m,\u001b[49m\u001b[43m(\u001b[49m\u001b[43mi\u001b[49m\u001b[43m,\u001b[49m\u001b[43mzero_band\u001b[49m\u001b[43m,\u001b[49m\u001b[43mzero_band\u001b[49m\u001b[43m)\u001b[49m\n\u001b[0;32m      3\u001b[0m \u001b[43m)\u001b[49m \u001b[38;5;28;01mfor\u001b[39;00m i \u001b[38;5;129;01min\u001b[39;00m convolved]\n",
      "File \u001b[1;32mD:\\Python\\Lib\\site-packages\\PIL\\Image.py:3597\u001b[0m, in \u001b[0;36mmerge\u001b[1;34m(mode, bands)\u001b[0m\n\u001b[0;32m   3595\u001b[0m     \u001b[38;5;28;01mif\u001b[39;00m band\u001b[38;5;241m.\u001b[39msize \u001b[38;5;241m!=\u001b[39m bands[\u001b[38;5;241m0\u001b[39m]\u001b[38;5;241m.\u001b[39msize:\n\u001b[0;32m   3596\u001b[0m         msg \u001b[38;5;241m=\u001b[39m \u001b[38;5;124m\"\u001b[39m\u001b[38;5;124msize mismatch\u001b[39m\u001b[38;5;124m\"\u001b[39m\n\u001b[1;32m-> 3597\u001b[0m         \u001b[38;5;28;01mraise\u001b[39;00m \u001b[38;5;167;01mValueError\u001b[39;00m(msg)\n\u001b[0;32m   3598\u001b[0m \u001b[38;5;28;01mfor\u001b[39;00m band \u001b[38;5;129;01min\u001b[39;00m bands:\n\u001b[0;32m   3599\u001b[0m     band\u001b[38;5;241m.\u001b[39mload()\n",
      "\u001b[1;31mValueError\u001b[0m: size mismatch"
     ]
    }
   ],
   "source": [
    "img=[Image.merge(\n",
    "    \"RGB\",(i,zero_band,zero_band)\n",
    ") for i in convolved]"
   ]
  },
  {
   "cell_type": "code",
   "execution_count": null,
   "id": "03ab41c4-ff16-48bd-8151-a2d34b3564c3",
   "metadata": {},
   "outputs": [],
   "source": [
    "img.show()"
   ]
  },
  {
   "cell_type": "code",
   "execution_count": null,
   "id": "6224d5e3-6e2f-428f-87a6-d50d27ad7858",
   "metadata": {},
   "outputs": [],
   "source": []
  }
 ],
 "metadata": {
  "kernelspec": {
   "display_name": "Python 3 (ipykernel)",
   "language": "python",
   "name": "python3"
  },
  "language_info": {
   "codemirror_mode": {
    "name": "ipython",
    "version": 3
   },
   "file_extension": ".py",
   "mimetype": "text/x-python",
   "name": "python",
   "nbconvert_exporter": "python",
   "pygments_lexer": "ipython3",
   "version": "3.12.4"
  }
 },
 "nbformat": 4,
 "nbformat_minor": 5
}
